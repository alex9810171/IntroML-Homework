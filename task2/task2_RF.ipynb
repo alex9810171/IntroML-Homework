{
 "cells": [
  {
   "cell_type": "code",
   "execution_count": 1,
   "metadata": {},
   "outputs": [],
   "source": [
    "import pandas as pd\n",
    "from sklearn.ensemble import RandomForestClassifier\n",
    "\n",
    "if __name__ == '__main__':\n",
    "    # load data\n",
    "    train_raw = pd.read_csv('introML2018.task2.train.csv')\n",
    "    train_X = train_raw.drop(columns='label')\n",
    "    train_Y = train_raw['label']\n",
    "    test_X = pd.read_csv('introML2018.task2.test.csv')\n",
    "\n",
    "    # init model\n",
    "    model = RandomForestClassifier(n_estimators=225, n_jobs=-1)\n",
    "\n",
    "    # learn\n",
    "    model.fit(train_X, train_Y)\n",
    "\n",
    "    # predict\n",
    "    test_Y = model.predict(test_X)\n",
    "\n",
    "    # save result\n",
    "    result = pd.DataFrame()\n",
    "    result['ID'] = range(1, len(test_Y) + 1)\n",
    "    result['label'] = test_Y\n",
    "    result.to_csv('introML2018.task2.predict.csv', index=False)"
   ]
  },
  {
   "cell_type": "code",
   "execution_count": null,
   "metadata": {},
   "outputs": [],
   "source": []
  }
 ],
 "metadata": {
  "kernelspec": {
   "display_name": "Python 3",
   "language": "python",
   "name": "python3"
  },
  "language_info": {
   "codemirror_mode": {
    "name": "ipython",
    "version": 3
   },
   "file_extension": ".py",
   "mimetype": "text/x-python",
   "name": "python",
   "nbconvert_exporter": "python",
   "pygments_lexer": "ipython3",
   "version": "3.6.5"
  }
 },
 "nbformat": 4,
 "nbformat_minor": 2
}
