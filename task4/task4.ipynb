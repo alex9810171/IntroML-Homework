{
 "cells": [
  {
   "cell_type": "code",
   "execution_count": 9,
   "metadata": {},
   "outputs": [
    {
     "name": "stdout",
     "output_type": "stream",
     "text": [
      "0.688955\n",
      "0.690099\n",
      "0.689041\n"
     ]
    }
   ],
   "source": [
    "# task 4 v1.1\n",
    "\n",
    "import pandas as pd\n",
    "from sklearn.ensemble import RandomForestClassifier\n",
    "from sklearn.preprocessing import Imputer\n",
    "from sklearn.cross_validation import train_test_split\n",
    "from sklearn.metrics import accuracy_score\n",
    "\n",
    "if __name__ == '__main__':\n",
    "    # load data\n",
    "    train_raw = pd.read_csv('introML2018.task4.train.csv')\n",
    "    \n",
    "    for y in range(0, 10):\n",
    "        print(\"y:\", y)\n",
    "        # split\n",
    "        train_raw, test_raw = train_test_split(train_raw, test_size=0.25, random_state=y)\n",
    "        train_X = train_raw.drop(columns='label')\n",
    "        train_Y = train_raw['label']\n",
    "        test_X = test_raw.drop(columns='label')\n",
    "        test_Y_ans = test_raw['label']\n",
    "\n",
    "        # deal with missing value\n",
    "        imp = Imputer(missing_values=-1, strategy='mean', axis=0)\n",
    "        imp.fit(train_X)\n",
    "        imp.transform(train_X)\n",
    "        imp.transform(test_X)\n",
    "\n",
    "        # init model\n",
    "        model = RandomForestClassifier(n_estimators=100, n_jobs=-1)\n",
    "\n",
    "        for x in range(0, 3):\n",
    "        # learn\n",
    "            model.fit(train_X, train_Y)\n",
    "\n",
    "        # predict\n",
    "            test_Y = model.predict(test_X)\n",
    "\n",
    "        # evaluate score\n",
    "            print(accuracy_score(test_Y_ans, test_Y))\n",
    "    \n",
    "    # history\n",
    "    # n = 100, median, all fill all : 0.688499 0.688221 0.6882430 .689319\n",
    "    # n = 100, mean, all fill all : 0.688734 0.688896 0.68773\n",
    "    # n = 100, median, train fill all : 0.687731 0.688479 0.688585\n",
    "    # n = 100, mean, train fill all : 0.688955 0.690099 0.689041\n",
    "    "
   ]
  },
  {
   "cell_type": "code",
   "execution_count": 1,
   "metadata": {},
   "outputs": [],
   "source": [
    "# task 4 v1.0\n",
    "\n",
    "import pandas as pd\n",
    "from sklearn.ensemble import RandomForestClassifier\n",
    "from sklearn.preprocessing import Imputer\n",
    "\n",
    "if __name__ == '__main__':\n",
    "    # load data\n",
    "    train_raw = pd.read_csv('introML2018.task4.train.csv')\n",
    "    train_X = train_raw.drop(columns='label')\n",
    "    train_Y = train_raw['label']\n",
    "    test_X = pd.read_csv('introML2018.task4.test.csv')\n",
    "    \n",
    "    # deal with missing value\n",
    "    imp = Imputer(missing_values=-1, strategy='mean', axis=0)\n",
    "    imp.fit(train_X)\n",
    "    imp.transform(train_X)\n",
    "    imp.transform(test_X)\n",
    "\n",
    "    # init model\n",
    "    model = RandomForestClassifier(n_estimators=210, n_jobs=-1)\n",
    "\n",
    "    # learn\n",
    "    model.fit(train_X, train_Y)\n",
    "\n",
    "    # predict\n",
    "    test_Y = model.predict(test_X)\n",
    "\n",
    "    # save result\n",
    "    result = pd.DataFrame()\n",
    "    result['ID'] = range(1, len(test_Y) + 1)\n",
    "    result['label'] = test_Y\n",
    "    result.to_csv('introML2018.task4.predict.csv', index=False)"
   ]
  },
  {
   "cell_type": "code",
   "execution_count": null,
   "metadata": {},
   "outputs": [],
   "source": []
  }
 ],
 "metadata": {
  "kernelspec": {
   "display_name": "Python 3",
   "language": "python",
   "name": "python3"
  },
  "language_info": {
   "codemirror_mode": {
    "name": "ipython",
    "version": 3
   },
   "file_extension": ".py",
   "mimetype": "text/x-python",
   "name": "python",
   "nbconvert_exporter": "python",
   "pygments_lexer": "ipython3",
   "version": "3.6.5"
  }
 },
 "nbformat": 4,
 "nbformat_minor": 2
}
